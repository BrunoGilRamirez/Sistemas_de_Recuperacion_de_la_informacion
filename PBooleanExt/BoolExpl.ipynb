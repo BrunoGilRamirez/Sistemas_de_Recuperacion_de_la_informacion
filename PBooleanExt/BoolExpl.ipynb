{
 "cells": [
  {
   "attachments": {},
   "cell_type": "markdown",
   "metadata": {},
   "source": [
    "# Fecuencia de palabras en un texto\n",
    "### Equipo 2"
   ]
  },
  {
   "cell_type": "code",
   "execution_count": 8,
   "metadata": {},
   "outputs": [],
   "source": [
    "from Bool import boolean, documents\n",
    "import sys\n",
    "sys.path.append(\"C:/Users/brusl/Documents/1 Escuela/1 Universidad/10 Semestre/Recuperacion/Practicas RDI\")\n",
    "from Miscelaneous import *"
   ]
  },
  {
   "cell_type": "code",
   "execution_count": 9,
   "metadata": {},
   "outputs": [
    {
     "data": {
      "text/html": [
       "<div>\n",
       "<style scoped>\n",
       "    .dataframe tbody tr th:only-of-type {\n",
       "        vertical-align: middle;\n",
       "    }\n",
       "\n",
       "    .dataframe tbody tr th {\n",
       "        vertical-align: top;\n",
       "    }\n",
       "\n",
       "    .dataframe thead th {\n",
       "        text-align: right;\n",
       "    }\n",
       "</style>\n",
       "<table border=\"1\" class=\"dataframe\">\n",
       "  <thead>\n",
       "    <tr style=\"text-align: right;\">\n",
       "      <th></th>\n",
       "      <th>0</th>\n",
       "    </tr>\n",
       "  </thead>\n",
       "  <tbody>\n",
       "    <tr>\n",
       "      <th>d1</th>\n",
       "      <td>El perro marrón saltó sobre el Pato perezoso.</td>\n",
       "    </tr>\n",
       "    <tr>\n",
       "      <th>d2</th>\n",
       "      <td>El gato perezoso se durmió en la alfombra.</td>\n",
       "    </tr>\n",
       "    <tr>\n",
       "      <th>d3</th>\n",
       "      <td>El perro marrón ladra al gato a menudo.</td>\n",
       "    </tr>\n",
       "    <tr>\n",
       "      <th>d4</th>\n",
       "      <td>El gato perezoso ignora al perro marrón.</td>\n",
       "    </tr>\n",
       "  </tbody>\n",
       "</table>\n",
       "</div>"
      ],
      "text/plain": [
       "                                                0\n",
       "d1  El perro marrón saltó sobre el Pato perezoso.\n",
       "d2     El gato perezoso se durmió en la alfombra.\n",
       "d3        El perro marrón ladra al gato a menudo.\n",
       "d4       El gato perezoso ignora al perro marrón."
      ]
     },
     "metadata": {},
     "output_type": "display_data"
    }
   ],
   "source": [
    "# Ejemplo de búsqueda\n",
    "query = \"gato and perro\"\n",
    "extend = boolean()\n",
    "extend.addDoc(documents)\n",
    "display(dict_to_table(extend.documents))"
   ]
  },
  {
   "cell_type": "code",
   "execution_count": 10,
   "metadata": {},
   "outputs": [
    {
     "name": "stdout",
     "output_type": "stream",
     "text": [
      "\n",
      "Documentos Procesados: {'d1': 'EL PERRO MARRÓN SALTÓ SOBRE EL PATO PEREZOSO.', 'd2': 'EL GATO PEREZOSO SE DURMIÓ EN LA ALFOMBRA.', 'd3': 'EL PERRO MARRÓN LADRA AL GATO A MENUDO.', 'd4': 'EL GATO PEREZOSO IGNORA AL PERRO MARRÓN.'}\n",
      "\n",
      "\n",
      "Palabras unicas: {'PERRO', 'AL', 'SE', 'LA', 'IGNORA', 'A', 'LADRA', 'SOBRE', 'MARRÓN', 'PATO', 'EL', 'MENUDO', 'PEREZOSO', 'GATO', 'ALFOMBRA', 'SALTÓ', 'EN', 'DURMIÓ'}\n",
      "\n",
      "\n",
      "Datos Procesados: \n",
      "d1: [('SOBRE', 0.29828679513998635), ('PATO', 0.29828679513998635), ('SALTÓ', 0.29828679513998635), ('EL', 0.25), ('PERRO', 0.1609602590564726), ('MARRÓN', 0.1609602590564726), ('AL', 0.0), ('SE', 0.0), ('LA', 0.0), ('IGNORA', 0.0), ('A', 0.0), ('LADRA', 0.0), ('MENUDO', 0.0), ('PEREZOSO', 0.0), ('GATO', 0.0), ('ALFOMBRA', 0.0), ('EN', 0.0), ('DURMIÓ', 0.0)]\n",
      "\n",
      "\n",
      "Datos Procesados: \n",
      "d2: [('SE', 0.29828679513998635), ('DURMIÓ', 0.29828679513998635), ('LA', 0.21164339756999317), ('EN', 0.21164339756999317), ('PEREZOSO', 0.1609602590564726), ('GATO', 0.1609602590564726), ('EL', 0.125), ('PERRO', 0.0), ('AL', 0.0), ('IGNORA', 0.0), ('A', 0.0), ('LADRA', 0.0), ('SOBRE', 0.0), ('MARRÓN', 0.0), ('PATO', 0.0), ('MENUDO', 0.0), ('ALFOMBRA', 0.0), ('SALTÓ', 0.0)]\n",
      "\n",
      "\n",
      "Datos Procesados: \n",
      "d3: [('LADRA', 0.29828679513998635), ('PERRO', 0.1609602590564726), ('MARRÓN', 0.1609602590564726), ('GATO', 0.1609602590564726), ('AL', 0.125), ('A', 0.125), ('EL', 0.125), ('SE', 0.0), ('LA', 0.0), ('IGNORA', 0.0), ('SOBRE', 0.0), ('PATO', 0.0), ('MENUDO', 0.0), ('PEREZOSO', 0.0), ('ALFOMBRA', 0.0), ('SALTÓ', 0.0), ('EN', 0.0), ('DURMIÓ', 0.0)]\n",
      "\n",
      "\n",
      "Datos Procesados: \n",
      "d4: [('IGNORA', 0.34089919444569866), ('PERRO', 0.18395458177882582), ('PEREZOSO', 0.18395458177882582), ('GATO', 0.18395458177882582), ('AL', 0.14285714285714285), ('EL', 0.14285714285714285), ('SE', 0.0), ('LA', 0.0), ('A', 0.0), ('LADRA', 0.0), ('SOBRE', 0.0), ('MARRÓN', 0.0), ('PATO', 0.0), ('MENUDO', 0.0), ('ALFOMBRA', 0.0), ('SALTÓ', 0.0), ('EN', 0.0), ('DURMIÓ', 0.0)]\n",
      "\n"
     ]
    }
   ],
   "source": [
    "tokens=extend.tokenize()"
   ]
  },
  {
   "cell_type": "code",
   "execution_count": 11,
   "metadata": {},
   "outputs": [
    {
     "data": {
      "text/html": [
       "<div>\n",
       "<style scoped>\n",
       "    .dataframe tbody tr th:only-of-type {\n",
       "        vertical-align: middle;\n",
       "    }\n",
       "\n",
       "    .dataframe tbody tr th {\n",
       "        vertical-align: top;\n",
       "    }\n",
       "\n",
       "    .dataframe thead th {\n",
       "        text-align: right;\n",
       "    }\n",
       "</style>\n",
       "<table border=\"1\" class=\"dataframe\">\n",
       "  <thead>\n",
       "    <tr style=\"text-align: right;\">\n",
       "      <th></th>\n",
       "      <th>A</th>\n",
       "      <th>AL</th>\n",
       "      <th>ALFOMBRA</th>\n",
       "      <th>DURMIÓ</th>\n",
       "      <th>EL</th>\n",
       "      <th>EN</th>\n",
       "      <th>GATO</th>\n",
       "      <th>IGNORA</th>\n",
       "      <th>LA</th>\n",
       "      <th>LADRA</th>\n",
       "      <th>MARRÓN</th>\n",
       "      <th>MENUDO</th>\n",
       "      <th>PATO</th>\n",
       "      <th>PEREZOSO</th>\n",
       "      <th>PERRO</th>\n",
       "      <th>SALTÓ</th>\n",
       "      <th>SE</th>\n",
       "      <th>SOBRE</th>\n",
       "    </tr>\n",
       "  </thead>\n",
       "  <tbody>\n",
       "    <tr>\n",
       "      <th>d1</th>\n",
       "      <td>0.000</td>\n",
       "      <td>0.000000</td>\n",
       "      <td>0.0</td>\n",
       "      <td>0.000000</td>\n",
       "      <td>0.250000</td>\n",
       "      <td>0.000000</td>\n",
       "      <td>0.000000</td>\n",
       "      <td>0.000000</td>\n",
       "      <td>0.000000</td>\n",
       "      <td>0.000000</td>\n",
       "      <td>0.16096</td>\n",
       "      <td>0.0</td>\n",
       "      <td>0.298287</td>\n",
       "      <td>0.000000</td>\n",
       "      <td>0.160960</td>\n",
       "      <td>0.298287</td>\n",
       "      <td>0.000000</td>\n",
       "      <td>0.298287</td>\n",
       "    </tr>\n",
       "    <tr>\n",
       "      <th>d2</th>\n",
       "      <td>0.000</td>\n",
       "      <td>0.000000</td>\n",
       "      <td>0.0</td>\n",
       "      <td>0.298287</td>\n",
       "      <td>0.125000</td>\n",
       "      <td>0.211643</td>\n",
       "      <td>0.160960</td>\n",
       "      <td>0.000000</td>\n",
       "      <td>0.211643</td>\n",
       "      <td>0.000000</td>\n",
       "      <td>0.00000</td>\n",
       "      <td>0.0</td>\n",
       "      <td>0.000000</td>\n",
       "      <td>0.160960</td>\n",
       "      <td>0.000000</td>\n",
       "      <td>0.000000</td>\n",
       "      <td>0.298287</td>\n",
       "      <td>0.000000</td>\n",
       "    </tr>\n",
       "    <tr>\n",
       "      <th>d3</th>\n",
       "      <td>0.125</td>\n",
       "      <td>0.125000</td>\n",
       "      <td>0.0</td>\n",
       "      <td>0.000000</td>\n",
       "      <td>0.125000</td>\n",
       "      <td>0.000000</td>\n",
       "      <td>0.160960</td>\n",
       "      <td>0.000000</td>\n",
       "      <td>0.000000</td>\n",
       "      <td>0.298287</td>\n",
       "      <td>0.16096</td>\n",
       "      <td>0.0</td>\n",
       "      <td>0.000000</td>\n",
       "      <td>0.000000</td>\n",
       "      <td>0.160960</td>\n",
       "      <td>0.000000</td>\n",
       "      <td>0.000000</td>\n",
       "      <td>0.000000</td>\n",
       "    </tr>\n",
       "    <tr>\n",
       "      <th>d4</th>\n",
       "      <td>0.000</td>\n",
       "      <td>0.142857</td>\n",
       "      <td>0.0</td>\n",
       "      <td>0.000000</td>\n",
       "      <td>0.142857</td>\n",
       "      <td>0.000000</td>\n",
       "      <td>0.183955</td>\n",
       "      <td>0.340899</td>\n",
       "      <td>0.000000</td>\n",
       "      <td>0.000000</td>\n",
       "      <td>0.00000</td>\n",
       "      <td>0.0</td>\n",
       "      <td>0.000000</td>\n",
       "      <td>0.183955</td>\n",
       "      <td>0.183955</td>\n",
       "      <td>0.000000</td>\n",
       "      <td>0.000000</td>\n",
       "      <td>0.000000</td>\n",
       "    </tr>\n",
       "  </tbody>\n",
       "</table>\n",
       "</div>"
      ],
      "text/plain": [
       "        A        AL  ALFOMBRA    DURMIÓ        EL        EN      GATO  \\\n",
       "d1  0.000  0.000000       0.0  0.000000  0.250000  0.000000  0.000000   \n",
       "d2  0.000  0.000000       0.0  0.298287  0.125000  0.211643  0.160960   \n",
       "d3  0.125  0.125000       0.0  0.000000  0.125000  0.000000  0.160960   \n",
       "d4  0.000  0.142857       0.0  0.000000  0.142857  0.000000  0.183955   \n",
       "\n",
       "      IGNORA        LA     LADRA   MARRÓN  MENUDO      PATO  PEREZOSO  \\\n",
       "d1  0.000000  0.000000  0.000000  0.16096     0.0  0.298287  0.000000   \n",
       "d2  0.000000  0.211643  0.000000  0.00000     0.0  0.000000  0.160960   \n",
       "d3  0.000000  0.000000  0.298287  0.16096     0.0  0.000000  0.000000   \n",
       "d4  0.340899  0.000000  0.000000  0.00000     0.0  0.000000  0.183955   \n",
       "\n",
       "       PERRO     SALTÓ        SE     SOBRE  \n",
       "d1  0.160960  0.298287  0.000000  0.298287  \n",
       "d2  0.000000  0.000000  0.298287  0.000000  \n",
       "d3  0.160960  0.000000  0.000000  0.000000  \n",
       "d4  0.183955  0.000000  0.000000  0.000000  "
      ]
     },
     "metadata": {},
     "output_type": "display_data"
    }
   ],
   "source": [
    "display(dict_to_table(tokens))"
   ]
  },
  {
   "cell_type": "code",
   "execution_count": 12,
   "metadata": {},
   "outputs": [
    {
     "name": "stdout",
     "output_type": "stream",
     "text": [
      "relevant_docs: {'d3', 'd4'} d3: word: GATOscore0.1609602590564726\n",
      "relevant_docs: {'d3', 'd4'} d3: word: PERROscore0.02590820499552677\n",
      "relevant_docs: {'d3', 'd4'} d4: word: GATOscore0.18395458177882582\n",
      "relevant_docs: {'d3', 'd4'} d4: word: PERROscore0.033839288157422716\n",
      "\n",
      "Consulta gato and perro\n",
      " resultados{'d4': 0.033839288157422716, 'd3': 0.02590820499552677}\n",
      "\n"
     ]
    }
   ],
   "source": [
    "results = extend.boolean_search(query)\n",
    "print(f\"\\nConsulta {query}\\n resultados{results}\\n\")"
   ]
  },
  {
   "cell_type": "code",
   "execution_count": 13,
   "metadata": {},
   "outputs": [
    {
     "name": "stdout",
     "output_type": "stream",
     "text": [
      "sub: ['(', 'NOT', 'PERRO', ')']\n",
      "text: ( NOT PERRO )\n",
      "sub: ['(', 'AND', 'GATO', ')']\n",
      "text: ( AND GATO )\n",
      "relevant_docs: {'d2'} d2: word: GATOscore0.1609602590564726\n",
      "\n",
      "Consulta ((not perro)and gato)\n",
      " resultados{'d2': 0.1609602590564726}\n",
      "\n"
     ]
    }
   ],
   "source": [
    "query = \"((not perro)and gato)\"\n",
    "results = extend.process_query(query)\n",
    "print(f\"\\nConsulta {query}\\n resultados{results}\\n\")"
   ]
  }
 ],
 "metadata": {
  "kernelspec": {
   "display_name": "RDI",
   "language": "python",
   "name": "python3"
  },
  "language_info": {
   "codemirror_mode": {
    "name": "ipython",
    "version": 3
   },
   "file_extension": ".py",
   "mimetype": "text/x-python",
   "name": "python",
   "nbconvert_exporter": "python",
   "pygments_lexer": "ipython3",
   "version": "3.10.9"
  },
  "orig_nbformat": 4
 },
 "nbformat": 4,
 "nbformat_minor": 2
}
