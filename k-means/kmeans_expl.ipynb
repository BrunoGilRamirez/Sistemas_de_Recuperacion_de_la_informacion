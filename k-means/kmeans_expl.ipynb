{
 "cells": [
  {
   "attachments": {},
   "cell_type": "markdown",
   "metadata": {},
   "source": [
    "# K_means"
   ]
  },
  {
   "cell_type": "code",
   "execution_count": 1,
   "metadata": {},
   "outputs": [],
   "source": [
    "from n_sklearn_kmeans import KMeans_DocsRecovery, dict_documentos"
   ]
  },
  {
   "attachments": {},
   "cell_type": "markdown",
   "metadata": {},
   "source": [
    "# La Clase KMeans_DocsRecovery()\n",
    "Se inicializa con el diccionario de documentos y con el numero de clusters que se quieren."
   ]
  },
  {
   "cell_type": "code",
   "execution_count": 2,
   "metadata": {},
   "outputs": [],
   "source": [
    "k_means = KMeans_DocsRecovery(dict_documentos, k=3)"
   ]
  },
  {
   "attachments": {},
   "cell_type": "markdown",
   "metadata": {},
   "source": [
    "## K_medias y la Semilla\n",
    "\n",
    "La semilla en np, permite hacer numeros aleatorios controlados y reproducibles"
   ]
  },
  {
   "cell_type": "code",
   "execution_count": 3,
   "metadata": {},
   "outputs": [
    {
     "name": "stdout",
     "output_type": "stream",
     "text": [
      "\n",
      "Clúster 0: valores: [[0, 0, 0, 1, 1, 1, 1, 0, 1, 0, 0, 0, 0, 0], [0, 0, 0, 1, 1, 1, 1, 0, 0, 0, 1, 0, 0, 0], [0, 0, 0, 1, 1, 1, 1, 0, 0, 0, 0, 0, 0, 1], [0, 0, 0, 1, 1, 1, 1, 0, 0, 1, 0, 0, 0, 0]]\n",
      "Documento: Este es el primer documento\n",
      "Documento: Este es el segundo documento\n",
      "Documento: Este es el tercer documento\n",
      "Documento: Este es el quinto documento\n",
      "\n",
      "Clúster 1: valores: [[0, 1, 0, 1, 1, 1, 1, 0, 0, 0, 0, 0, 0, 0]]\n",
      "Documento: Este es el cuarto documento\n",
      "\n",
      "Clúster 2: valores: [[0, 0, 1, 1, 1, 1, 0, 0, 0, 0, 0, 1, 0, 0], [0, 0, 1, 1, 1, 1, 0, 0, 0, 0, 0, 0, 1, 0], [1, 0, 1, 1, 1, 1, 0, 1, 0, 0, 0, 1, 1, 0]]\n",
      "Documento: El sexto documento es diferente\n",
      "Documento: El séptimo documento es diferente\n",
      "Documento: El octavo documento es diferente al sexto y séptimo\n"
     ]
    }
   ],
   "source": [
    "k_means.k_mean_fit(Algoritmo='k_medias')"
   ]
  },
  {
   "attachments": {},
   "cell_type": "markdown",
   "metadata": {},
   "source": [
    "# El metodo k_mean_fit\n",
    "Este tiene como parametros :Algoritmo='k_medias_mejorado', max_iter=100, tol=1e-4, seed=0\n",
    "es decir, que siempre que se ejecute sin especificar que algoritmo se quiere, entonces por defecto esta el algoritmo k_medias_mejorado"
   ]
  },
  {
   "cell_type": "code",
   "execution_count": 4,
   "metadata": {},
   "outputs": [
    {
     "name": "stdout",
     "output_type": "stream",
     "text": [
      "Convergencia temprana en la iteración 1\n",
      "\n",
      "Clúster 0: valores: [[0, 0, 0, 1, 1, 1, 1, 0, 1, 0, 0, 0, 0, 0], [0, 0, 0, 1, 1, 1, 1, 0, 0, 0, 1, 0, 0, 0], [0, 0, 0, 1, 1, 1, 1, 0, 0, 0, 0, 0, 0, 1], [0, 1, 0, 1, 1, 1, 1, 0, 0, 0, 0, 0, 0, 0], [0, 0, 0, 1, 1, 1, 1, 0, 0, 1, 0, 0, 0, 0]]\n",
      "Documento: Este es el primer documento\n",
      "Documento: Este es el segundo documento\n",
      "Documento: Este es el tercer documento\n",
      "Documento: Este es el cuarto documento\n",
      "Documento: Este es el quinto documento\n",
      "\n",
      "Clúster 1: valores: [[0, 0, 1, 1, 1, 1, 0, 0, 0, 0, 0, 1, 0, 0], [0, 0, 1, 1, 1, 1, 0, 0, 0, 0, 0, 0, 1, 0]]\n",
      "Documento: El sexto documento es diferente\n",
      "Documento: El séptimo documento es diferente\n",
      "\n",
      "Clúster 2: valores: [[1, 0, 1, 1, 1, 1, 0, 1, 0, 0, 0, 1, 1, 0]]\n",
      "Documento: El octavo documento es diferente al sexto y séptimo\n"
     ]
    }
   ],
   "source": [
    "k_means.k_mean_fit()"
   ]
  },
  {
   "attachments": {},
   "cell_type": "markdown",
   "metadata": {},
   "source": [
    "## Utilizar la moda\n"
   ]
  },
  {
   "cell_type": "code",
   "execution_count": 5,
   "metadata": {},
   "outputs": [
    {
     "name": "stdout",
     "output_type": "stream",
     "text": [
      "Convergencia temprana en la iteración 1\n",
      "\n",
      "Clúster 0: valores: [[0, 0, 0, 1, 1, 1, 1, 0, 1, 0, 0, 0, 0, 0], [0, 0, 0, 1, 1, 1, 1, 0, 0, 0, 1, 0, 0, 0], [0, 0, 0, 1, 1, 1, 1, 0, 0, 0, 0, 0, 0, 1], [0, 1, 0, 1, 1, 1, 1, 0, 0, 0, 0, 0, 0, 0], [0, 0, 0, 1, 1, 1, 1, 0, 0, 1, 0, 0, 0, 0]]\n",
      "Documento: Este es el primer documento\n",
      "Documento: Este es el segundo documento\n",
      "Documento: Este es el tercer documento\n",
      "Documento: Este es el cuarto documento\n",
      "Documento: Este es el quinto documento\n",
      "\n",
      "Clúster 1: valores: [[0, 0, 1, 1, 1, 1, 0, 0, 0, 0, 0, 1, 0, 0], [0, 0, 1, 1, 1, 1, 0, 0, 0, 0, 0, 0, 1, 0]]\n",
      "Documento: El sexto documento es diferente\n",
      "Documento: El séptimo documento es diferente\n",
      "\n",
      "Clúster 2: valores: [[1, 0, 1, 1, 1, 1, 0, 1, 0, 0, 0, 1, 1, 0]]\n",
      "Documento: El octavo documento es diferente al sexto y séptimo\n"
     ]
    }
   ],
   "source": [
    "k_means.k_mean_fit(Algoritmo='k_mode')"
   ]
  },
  {
   "cell_type": "code",
   "execution_count": 16,
   "metadata": {},
   "outputs": [
    {
     "name": "stdout",
     "output_type": "stream",
     "text": [
      "Convergencia temprana en la iteración 2\n",
      "\n",
      "Clúster 0: valores: [[0, 0, 0, 1, 1, 1, 1, 0, 1, 0, 0, 0, 0, 0], [0, 0, 0, 1, 1, 1, 1, 0, 0, 0, 1, 0, 0, 0], [0, 0, 0, 1, 1, 1, 1, 0, 0, 0, 0, 0, 0, 1], [0, 1, 0, 1, 1, 1, 1, 0, 0, 0, 0, 0, 0, 0], [0, 0, 0, 1, 1, 1, 1, 0, 0, 1, 0, 0, 0, 0], [0, 0, 0, 1, 0, 0, 0, 0, 0, 0, 0, 1, 0, 0]]\n",
      "Documento: Este es el primer documento\n",
      "Documento: Este es el segundo documento\n",
      "Documento: Este es el tercer documento\n",
      "Documento: Este es el cuarto documento\n",
      "Documento: Este es el quinto documento\n",
      "Documento: sexto documento\n",
      "\n",
      "Clúster 1: valores: [[1, 0, 1, 1, 1, 1, 0, 1, 0, 0, 0, 1, 1, 0]]\n",
      "Documento: El octavo documento es diferente al sexto y séptimo\n",
      "\n",
      "Clúster 2: valores: [[0, 0, 1, 1, 1, 1, 0, 0, 0, 0, 0, 1, 0, 0], [0, 0, 1, 1, 1, 1, 0, 0, 0, 0, 0, 0, 1, 0]]\n",
      "Documento: El sexto documento es diferente\n",
      "Documento: El séptimo documento es diferente\n"
     ]
    }
   ],
   "source": [
    "k_means.query_k_mean(\"sexto documento\",Algoritmo=\"k_mode\")"
   ]
  }
 ],
 "metadata": {
  "kernelspec": {
   "display_name": "RDI",
   "language": "python",
   "name": "python3"
  },
  "language_info": {
   "codemirror_mode": {
    "name": "ipython",
    "version": 3
   },
   "file_extension": ".py",
   "mimetype": "text/x-python",
   "name": "python",
   "nbconvert_exporter": "python",
   "pygments_lexer": "ipython3",
   "version": "3.10.9"
  },
  "orig_nbformat": 4
 },
 "nbformat": 4,
 "nbformat_minor": 2
}
